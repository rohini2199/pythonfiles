{
 "cells": [
  {
   "cell_type": "code",
   "execution_count": null,
   "metadata": {},
   "outputs": [],
   "source": [
    "##Introduction to constructor: (special & magical method)\n",
    "## To initialise the attribute\n",
    "## declaration\n",
    "##__init__double underscore...!!"
   ]
  },
  {
   "cell_type": "code",
   "execution_count": null,
   "metadata": {},
   "outputs": [],
   "source": [
    "#req: create a dog class & declare a method for it\n",
    "##methods - sit, roll_over,sleep"
   ]
  },
  {
   "cell_type": "code",
   "execution_count": 9,
   "metadata": {},
   "outputs": [],
   "source": [
    "class Dog:\n",
    "    \"\"\"Creating a Dog class\"\"\"\n",
    "    def __init__(self,name,age):\n",
    "        self.name = name\n",
    "        self.age = age\n",
    "        print('this is executed')\n",
    "    \n",
    "    def sit(self):\n",
    "        print(f\"{self.name} is now sitting.\")\n",
    "    \n",
    "    def roll_over(self):\n",
    "        print(f\"{self.name} is now rolling over.\")\n",
    "        \n",
    "    def sleep(self):\n",
    "        print(f\"{self.name} is now sleeping.\")\n",
    "        \n",
    "    def jump(self):\n",
    "        print(f\"{self.name} is now jumping on the command.\")\n",
    "        \n",
    "    def details(self):\n",
    "        print(f\"{self.name} is {self.age} years old.\")\n",
    "\n"
   ]
  },
  {
   "cell_type": "code",
   "execution_count": 10,
   "metadata": {},
   "outputs": [
    {
     "name": "stdout",
     "output_type": "stream",
     "text": [
      "this is executed\n"
     ]
    }
   ],
   "source": [
    "test = Dog('Tiger',8)"
   ]
  },
  {
   "cell_type": "code",
   "execution_count": 12,
   "metadata": {},
   "outputs": [
    {
     "name": "stdout",
     "output_type": "stream",
     "text": [
      "Tiger is now sleeping.\n"
     ]
    }
   ],
   "source": [
    "test.sleep()"
   ]
  },
  {
   "cell_type": "code",
   "execution_count": 13,
   "metadata": {},
   "outputs": [
    {
     "name": "stdout",
     "output_type": "stream",
     "text": [
      "Tiger is now jumping on the command.\n"
     ]
    }
   ],
   "source": [
    "test.jump()"
   ]
  },
  {
   "cell_type": "code",
   "execution_count": 14,
   "metadata": {},
   "outputs": [
    {
     "name": "stdout",
     "output_type": "stream",
     "text": [
      "Tiger is 8 years old.\n"
     ]
    }
   ],
   "source": [
    "test.details()"
   ]
  },
  {
   "cell_type": "code",
   "execution_count": null,
   "metadata": {},
   "outputs": [],
   "source": []
  }
 ],
 "metadata": {
  "kernelspec": {
   "display_name": "Python 3",
   "language": "python",
   "name": "python3"
  },
  "language_info": {
   "codemirror_mode": {
    "name": "ipython",
    "version": 3
   },
   "file_extension": ".py",
   "mimetype": "text/x-python",
   "name": "python",
   "nbconvert_exporter": "python",
   "pygments_lexer": "ipython3",
   "version": "3.7.6"
  }
 },
 "nbformat": 4,
 "nbformat_minor": 4
}
