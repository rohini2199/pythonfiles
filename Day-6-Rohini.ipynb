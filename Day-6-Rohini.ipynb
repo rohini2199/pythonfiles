{
 "cells": [
  {
   "cell_type": "code",
   "execution_count": null,
   "metadata": {},
   "outputs": [],
   "source": [
    "## Continuation on for loops : "
   ]
  },
  {
   "cell_type": "code",
   "execution_count": null,
   "metadata": {},
   "outputs": [],
   "source": [
    "## General syntax for tempvar in mainvar:\n",
    "    ##      print(tempvar)"
   ]
  },
  {
   "cell_type": "code",
   "execution_count": 1,
   "metadata": {},
   "outputs": [],
   "source": [
    "students = ['suresh','Ramya','Yasmin','Niti','Vrunda','tarun','roh']"
   ]
  },
  {
   "cell_type": "code",
   "execution_count": 2,
   "metadata": {},
   "outputs": [
    {
     "name": "stdout",
     "output_type": "stream",
     "text": [
      "['suresh', 'Ramya', 'Yasmin', 'Niti', 'Vrunda', 'tarun', 'roh']\n"
     ]
    }
   ],
   "source": [
    "print(students)"
   ]
  },
  {
   "cell_type": "code",
   "execution_count": null,
   "metadata": {},
   "outputs": [],
   "source": [
    "##Requirements 1. appreciating all of the above for sending the files\n",
    "## 2. I also want to tell them that i am lokking forward to receive their files today."
   ]
  },
  {
   "cell_type": "code",
   "execution_count": 4,
   "metadata": {},
   "outputs": [
    {
     "name": "stdout",
     "output_type": "stream",
     "text": [
      "Suresh\n",
      "Ramya\n",
      "Yasmin\n",
      "Niti\n",
      "Vrunda\n",
      "Tarun\n",
      "Roh\n"
     ]
    }
   ],
   "source": [
    "for roh in students:\n",
    "    print(roh.title())\n",
    "## iterating through list and split it out"
   ]
  },
  {
   "cell_type": "code",
   "execution_count": 5,
   "metadata": {},
   "outputs": [
    {
     "name": "stdout",
     "output_type": "stream",
     "text": [
      "Keep up the good work, Suresh\n",
      "look forward to receive files,Suresh\n",
      "Keep up the good work, Ramya\n",
      "look forward to receive files,Ramya\n",
      "Keep up the good work, Yasmin\n",
      "look forward to receive files,Yasmin\n",
      "Keep up the good work, Niti\n",
      "look forward to receive files,Niti\n",
      "Keep up the good work, Vrunda\n",
      "look forward to receive files,Vrunda\n",
      "Keep up the good work, Tarun\n",
      "look forward to receive files,Tarun\n",
      "Keep up the good work, Roh\n",
      "look forward to receive files,Roh\n"
     ]
    }
   ],
   "source": [
    "for roh in students:\n",
    "    print(f\"Keep up the good work, {roh.title()}\")\n",
    "    print(f\"look forward to receive files,{roh.title()}\")"
   ]
  },
  {
   "cell_type": "code",
   "execution_count": 6,
   "metadata": {},
   "outputs": [
    {
     "name": "stdout",
     "output_type": "stream",
     "text": [
      "Keep up the good work, Suresh\n",
      "look forward to receive files,Suresh\n",
      "\n",
      "Keep up the good work, Ramya\n",
      "look forward to receive files,Ramya\n",
      "\n",
      "Keep up the good work, Yasmin\n",
      "look forward to receive files,Yasmin\n",
      "\n",
      "Keep up the good work, Niti\n",
      "look forward to receive files,Niti\n",
      "\n",
      "Keep up the good work, Vrunda\n",
      "look forward to receive files,Vrunda\n",
      "\n",
      "Keep up the good work, Tarun\n",
      "look forward to receive files,Tarun\n",
      "\n",
      "Keep up the good work, Roh\n",
      "look forward to receive files,Roh\n",
      "\n"
     ]
    }
   ],
   "source": [
    "for roh in students:\n",
    "    print(f\"Keep up the good work, {roh.title()}\")\n",
    "    print(f\"look forward to receive files,{roh.title()}\\n\")"
   ]
  },
  {
   "cell_type": "code",
   "execution_count": null,
   "metadata": {},
   "outputs": [],
   "source": [
    "## Generic message to all participants\n"
   ]
  },
  {
   "cell_type": "code",
   "execution_count": 8,
   "metadata": {},
   "outputs": [
    {
     "name": "stdout",
     "output_type": "stream",
     "text": [
      "Keep up the good work, Suresh\n",
      "look forward to receive files,Suresh\n",
      "\n",
      "Keep up the good work, Ramya\n",
      "look forward to receive files,Ramya\n",
      "\n",
      "Keep up the good work, Yasmin\n",
      "look forward to receive files,Yasmin\n",
      "\n",
      "Keep up the good work, Niti\n",
      "look forward to receive files,Niti\n",
      "\n",
      "Keep up the good work, Vrunda\n",
      "look forward to receive files,Vrunda\n",
      "\n",
      "Keep up the good work, Tarun\n",
      "look forward to receive files,Tarun\n",
      "\n",
      "Keep up the good work, Roh\n",
      "look forward to receive files,Roh\n",
      "\n",
      "Thank You All For Joining\n"
     ]
    }
   ],
   "source": [
    "for roh in students:\n",
    "    print(f\"Keep up the good work, {roh.title()}\")\n",
    "    print(f\"look forward to receive files,{roh.title()}\\n\")\n",
    "    \n",
    "print(\"Thank you all for joining\".title())"
   ]
  },
  {
   "cell_type": "code",
   "execution_count": null,
   "metadata": {},
   "outputs": [],
   "source": [
    "##Introduction to if else condition \n",
    "##if-else block (validating certain condition,occurance, events )"
   ]
  },
  {
   "cell_type": "code",
   "execution_count": 11,
   "metadata": {},
   "outputs": [],
   "source": [
    "my_students = ['Mala','Dinesh','Yasmin','Niti','Nilesh','Vrunda','tarun','rohini']"
   ]
  },
  {
   "cell_type": "code",
   "execution_count": null,
   "metadata": {},
   "outputs": [],
   "source": [
    "##Syntax  if x :\n",
    "    print\n",
    "    else:\n",
    "        print\n",
    "                "
   ]
  },
  {
   "cell_type": "code",
   "execution_count": null,
   "metadata": {},
   "outputs": [],
   "source": [
    "## Req - Nilesh is coming --- I want to print his name in capital letters and all others title "
   ]
  },
  {
   "cell_type": "code",
   "execution_count": 12,
   "metadata": {},
   "outputs": [
    {
     "name": "stdout",
     "output_type": "stream",
     "text": [
      "Mala\n",
      "Dinesh\n",
      "Yasmin\n",
      "Niti\n",
      "NILESH\n",
      "Vrunda\n",
      "Tarun\n",
      "Rohini\n"
     ]
    }
   ],
   "source": [
    "for x in my_students:\n",
    "    if x == 'Nilesh':\n",
    "        print(x.upper())\n",
    "    else:\n",
    "        print(x.title())"
   ]
  },
  {
   "cell_type": "code",
   "execution_count": null,
   "metadata": {},
   "outputs": [],
   "source": [
    "## form a team of two members each \n",
    "## general syntax of slicing ====> mainvar[startvalue:stopvalue:stepout] "
   ]
  },
  {
   "cell_type": "code",
   "execution_count": null,
   "metadata": {},
   "outputs": [],
   "source": [
    "## totally based up on indexing ## Wanted to include  Dinesh and Niti in same group"
   ]
  },
  {
   "cell_type": "code",
   "execution_count": 13,
   "metadata": {},
   "outputs": [],
   "source": [
    "my_students = ['Mala','Dinesh','Yasmin','Niti','Nilesh','Vrunda','tarun','rohini']"
   ]
  },
  {
   "cell_type": "code",
   "execution_count": null,
   "metadata": {},
   "outputs": [],
   "source": [
    "##last value is always exclusive"
   ]
  },
  {
   "cell_type": "code",
   "execution_count": 20,
   "metadata": {},
   "outputs": [
    {
     "name": "stdout",
     "output_type": "stream",
     "text": [
      "['Mala', 'Yasmin', 'Nilesh', 'tarun']\n"
     ]
    }
   ],
   "source": [
    "print(my_students[0:10:2]) ## last number should be "
   ]
  },
  {
   "cell_type": "code",
   "execution_count": null,
   "metadata": {},
   "outputs": [],
   "source": []
  }
 ],
 "metadata": {
  "kernelspec": {
   "display_name": "Python 3",
   "language": "python",
   "name": "python3"
  },
  "language_info": {
   "codemirror_mode": {
    "name": "ipython",
    "version": 3
   },
   "file_extension": ".py",
   "mimetype": "text/x-python",
   "name": "python",
   "nbconvert_exporter": "python",
   "pygments_lexer": "ipython3",
   "version": "3.7.6"
  }
 },
 "nbformat": 4,
 "nbformat_minor": 4
}
