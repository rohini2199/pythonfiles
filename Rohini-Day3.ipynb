{
 "cells": [
  {
   "cell_type": "code",
   "execution_count": null,
   "metadata": {},
   "outputs": [],
   "source": [
    "## Introduction to List data type\n",
    "#It is ordered collection of items\n",
    "#It is mutable data type"
   ]
  },
  {
   "cell_type": "code",
   "execution_count": 5,
   "metadata": {},
   "outputs": [
    {
     "name": "stdout",
     "output_type": "stream",
     "text": [
      "['shruti', 'rohini', 'ashok']\n"
     ]
    }
   ],
   "source": [
    "students = ['shruti','rohini','ashok']\n",
    "type(students)\n",
    "print(students)"
   ]
  },
  {
   "cell_type": "code",
   "execution_count": 27,
   "metadata": {},
   "outputs": [
    {
     "name": "stdout",
     "output_type": "stream",
     "text": [
      "shruti\n",
      "ashok\n"
     ]
    }
   ],
   "source": [
    "##Accessing individual elements of list\n",
    "##Introduction to indexing 0,1,2,3,4\n",
    "print(students[0])\n",
    "print(students[2])\n"
   ]
  },
  {
   "cell_type": "code",
   "execution_count": 8,
   "metadata": {},
   "outputs": [],
   "source": [
    "## How to modify, alter, delete element with list\n",
    "my_students=['shruti','rohini','ashok','atharva','rupa']"
   ]
  },
  {
   "cell_type": "code",
   "execution_count": 9,
   "metadata": {},
   "outputs": [
    {
     "name": "stdout",
     "output_type": "stream",
     "text": [
      "['shruti', 'rohini', 'ashok', 'atharva', 'rupa']\n"
     ]
    }
   ],
   "source": [
    "print(my_students)"
   ]
  },
  {
   "cell_type": "code",
   "execution_count": 10,
   "metadata": {},
   "outputs": [
    {
     "name": "stdout",
     "output_type": "stream",
     "text": [
      "['shruti', 'rohini', 'ashok', 'atharva', 'rupa', 'sushmita']\n"
     ]
    }
   ],
   "source": [
    "## Add nuw element to an array\n",
    "my_students.append('sushmita')\n",
    "print(my_students)"
   ]
  },
  {
   "cell_type": "code",
   "execution_count": 11,
   "metadata": {},
   "outputs": [
    {
     "name": "stdout",
     "output_type": "stream",
     "text": [
      "['shruti', 'rohini', 'ashok', 'atharva', 'rupa', 'sushmita', 'Ravi']\n"
     ]
    }
   ],
   "source": [
    "my_students.append('Ravi')\n",
    "print(my_students)"
   ]
  },
  {
   "cell_type": "code",
   "execution_count": 13,
   "metadata": {},
   "outputs": [
    {
     "name": "stdout",
     "output_type": "stream",
     "text": [
      "['shruti', 'rohini', 'Ira', 'ashok', 'atharva', 'rupa', 'sushmita', 'Ravi']\n"
     ]
    }
   ],
   "source": [
    "my_students.insert(2,'Ira')\n",
    "print(my_students)"
   ]
  },
  {
   "cell_type": "code",
   "execution_count": 22,
   "metadata": {},
   "outputs": [
    {
     "name": "stdout",
     "output_type": "stream",
     "text": [
      "['shruti', 'rohini', 'Preet', 'Ira', 'Ira', 'Riyan', 'Riyan', 'Riyan', 'Riyan', <built-in method upper of str object at 0x000001D822C89C70>, 'Riyan', 'Riyan', 'ashok', 'atharva', 'rupa', 'sushmita', 'Ravi']\n"
     ]
    }
   ],
   "source": [
    "my_students.insert(2,'Preet')\n",
    "print(my_students)"
   ]
  },
  {
   "cell_type": "code",
   "execution_count": 24,
   "metadata": {},
   "outputs": [
    {
     "name": "stdout",
     "output_type": "stream",
     "text": [
      "['shruti', 'rohini', 'Preet', 'Ira', 'Riyan', 'Riyan', 'Riyan', 'Riyan', <built-in method upper of str object at 0x000001D822C89C70>, 'Riyan', 'Riyan', 'ashok', 'atharva', 'rupa', 'sushmita', 'Ravi']\n"
     ]
    }
   ],
   "source": [
    "## Delete from list\n",
    "del my_students[4]\n",
    "print(my_students)"
   ]
  },
  {
   "cell_type": "code",
   "execution_count": 25,
   "metadata": {},
   "outputs": [
    {
     "name": "stdout",
     "output_type": "stream",
     "text": [
      "Ravi\n"
     ]
    }
   ],
   "source": [
    "##Pop method -- means it will not delete things permanently but it will last item and create carben copy\n",
    "x = my_students.pop()\n",
    "print(x)"
   ]
  },
  {
   "cell_type": "code",
   "execution_count": null,
   "metadata": {},
   "outputs": [],
   "source": []
  }
 ],
 "metadata": {
  "kernelspec": {
   "display_name": "Python 3",
   "language": "python",
   "name": "python3"
  },
  "language_info": {
   "codemirror_mode": {
    "name": "ipython",
    "version": 3
   },
   "file_extension": ".py",
   "mimetype": "text/x-python",
   "name": "python",
   "nbconvert_exporter": "python",
   "pygments_lexer": "ipython3",
   "version": "3.7.6"
  }
 },
 "nbformat": 4,
 "nbformat_minor": 4
}
