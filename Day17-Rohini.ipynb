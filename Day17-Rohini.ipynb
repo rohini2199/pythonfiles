{
 "cells": [
  {
   "cell_type": "code",
   "execution_count": null,
   "metadata": {},
   "outputs": [],
   "source": [
    "Introduction to python classes:\n",
    "    Class ---> it will have a high level design of the program\n",
    "    blueprint of the design."
   ]
  },
  {
   "cell_type": "code",
   "execution_count": null,
   "metadata": {},
   "outputs": [],
   "source": [
    "class : it will be high level design of the program\n",
    "method : a function written inside a class is method\n",
    "attributes : a variable written inside a class is called as attribute\n",
    "self : a temporary place holder for an object\n",
    "object : access point to class methods"
   ]
  },
  {
   "cell_type": "code",
   "execution_count": null,
   "metadata": {},
   "outputs": [],
   "source": [
    "## req: create a user class\n",
    "1. create a ... cratename method for considering the input name from the user\n",
    "2. create a display method for displaying a name\n",
    "3. create a greetmethod for greeting the user"
   ]
  },
  {
   "cell_type": "code",
   "execution_count": 10,
   "metadata": {},
   "outputs": [],
   "source": [
    "class User:  ## Title case mandatory. Its a class \n",
    "    \"\"\"creating an user class for capturing the details\"\"\" ## Information\n",
    "    def createname(self,name):  ## Method\n",
    "        \"\"\"takes the input from user\"\"\"\n",
    "        self.name = name ## attribute \n",
    "        \n",
    "    def displayname(self): ## Method\n",
    "        \"\"\"it has been created to display user name\"\"\"\n",
    "        print(f\"{self.name}\")\n",
    "        \n",
    "    def greetuser(self): ## Method\n",
    "        \"\"\"this method is to greet the user\"\"\"\n",
    "        print(f\"Welcome back to class, {self.name}\")"
   ]
  },
  {
   "cell_type": "code",
   "execution_count": null,
   "metadata": {},
   "outputs": [],
   "source": [
    "## Object name should be sensible"
   ]
  },
  {
   "cell_type": "code",
   "execution_count": 11,
   "metadata": {},
   "outputs": [],
   "source": [
    "xobj = User() ## Object assignment to a class.."
   ]
  },
  {
   "cell_type": "code",
   "execution_count": 12,
   "metadata": {},
   "outputs": [],
   "source": [
    "xobj.createname('Rohini') ## self.name = name ## xobj.name = 'Rohini'\n",
    "## self is a place holder for attribute"
   ]
  },
  {
   "cell_type": "code",
   "execution_count": 13,
   "metadata": {},
   "outputs": [
    {
     "name": "stdout",
     "output_type": "stream",
     "text": [
      "Rohini\n"
     ]
    }
   ],
   "source": [
    "xobj.displayname()"
   ]
  },
  {
   "cell_type": "code",
   "execution_count": 14,
   "metadata": {},
   "outputs": [
    {
     "name": "stdout",
     "output_type": "stream",
     "text": [
      "Welcome back to class, Rohini\n"
     ]
    }
   ],
   "source": [
    "xobj.greetuser()"
   ]
  },
  {
   "cell_type": "code",
   "execution_count": 15,
   "metadata": {},
   "outputs": [],
   "source": [
    "professor = User()  ## new object name for class "
   ]
  },
  {
   "cell_type": "code",
   "execution_count": 16,
   "metadata": {},
   "outputs": [
    {
     "name": "stdout",
     "output_type": "stream",
     "text": [
      "Shruti\n",
      "Welcome back to class, Shruti\n"
     ]
    }
   ],
   "source": [
    "professor.createname('Shruti')\n",
    "professor.displayname()\n",
    "professor.greetuser()"
   ]
  },
  {
   "cell_type": "code",
   "execution_count": null,
   "metadata": {},
   "outputs": [],
   "source": [
    "Object oriented programming \n",
    "self is a place holder that means its a temporary variable \n",
    "variables inside the method can be used multiple times if we use self alongwith\n",
    "self has to be used for variables defined inside the method"
   ]
  },
  {
   "cell_type": "code",
   "execution_count": null,
   "metadata": {},
   "outputs": [],
   "source": []
  }
 ],
 "metadata": {
  "kernelspec": {
   "display_name": "Python 3",
   "language": "python",
   "name": "python3"
  },
  "language_info": {
   "codemirror_mode": {
    "name": "ipython",
    "version": 3
   },
   "file_extension": ".py",
   "mimetype": "text/x-python",
   "name": "python",
   "nbconvert_exporter": "python",
   "pygments_lexer": "ipython3",
   "version": "3.7.6"
  }
 },
 "nbformat": 4,
 "nbformat_minor": 4
}
