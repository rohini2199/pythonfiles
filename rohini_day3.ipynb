{
 "cells": [
  {
   "cell_type": "code",
   "execution_count": null,
   "metadata": {},
   "outputs": [],
   "source": [
    "Introduction to String Methods   #builtin methods for string"
   ]
  },
  {
   "cell_type": "code",
   "execution_count": 1,
   "metadata": {},
   "outputs": [
    {
     "data": {
      "text/plain": [
       "str"
      ]
     },
     "execution_count": 1,
     "metadata": {},
     "output_type": "execute_result"
    }
   ],
   "source": [
    "name=\"rohini\"\n",
    "type(name)"
   ]
  },
  {
   "cell_type": "code",
   "execution_count": 3,
   "metadata": {},
   "outputs": [
    {
     "name": "stdout",
     "output_type": "stream",
     "text": [
      "Rohini\n",
      "ROHINI\n",
      "rohini\n"
     ]
    }
   ],
   "source": [
    "print(name.title())  # methods are called to conver string into various forms\n",
    "print(name.upper())\n",
    "print(name.lower())"
   ]
  },
  {
   "cell_type": "code",
   "execution_count": null,
   "metadata": {},
   "outputs": [],
   "source": [
    "##### Introduction to f string ###"
   ]
  },
  {
   "cell_type": "code",
   "execution_count": 8,
   "metadata": {},
   "outputs": [
    {
     "name": "stdout",
     "output_type": "stream",
     "text": [
      " Rohini    Patil\n"
     ]
    }
   ],
   "source": [
    "first_name=\" rohini\"\n",
    "last_name=\"  Patil\"\n",
    "# General syntax of f string \n",
    "# f\"{place holder}\n",
    "full_name=f\"{first_name}  {last_name}\"\n",
    "print (full_name.title())\n"
   ]
  },
  {
   "cell_type": "code",
   "execution_count": 11,
   "metadata": {},
   "outputs": [
    {
     "name": "stdout",
     "output_type": "stream",
     "text": [
      "Keep a good work, rohini    Patil\n",
      "Keep a good work, ROHINI    PATIL\n",
      "Keep a good work, Rohini    Patil\n"
     ]
    }
   ],
   "source": [
    "# combine typed sentence and variable with f\n",
    "print(f\"Keep a good work,{full_name}\")\n",
    "print(f\"Keep a good work,{full_name.upper()}\")\n",
    "print(f\"Keep a good work,{full_name.title()}\")"
   ]
  },
  {
   "cell_type": "code",
   "execution_count": 15,
   "metadata": {},
   "outputs": [
    {
     "name": "stdout",
     "output_type": "stream",
     "text": [
      "python\n",
      "\tpython\n",
      "\n",
      "python\n"
     ]
    }
   ],
   "source": [
    "## Adding white spaces\n",
    "print(\"python\")\n",
    "##Tab delimeter------> tab space \\t\n",
    "##\\n for new line\n",
    "print(\"\\tpython\")\n",
    "print(\"\\npython\")"
   ]
  },
  {
   "cell_type": "code",
   "execution_count": 16,
   "metadata": {},
   "outputs": [
    {
     "name": "stdout",
     "output_type": "stream",
     "text": [
      "Favourite Languages: \n",
      "\\Python\n",
      "C++\n",
      "4GL\n",
      "Java\n"
     ]
    }
   ],
   "source": [
    "print(\"Favourite Languages: \\n\\Python\\nC++\\n4GL\\nJava\")"
   ]
  },
  {
   "cell_type": "code",
   "execution_count": 20,
   "metadata": {},
   "outputs": [
    {
     "name": "stdout",
     "output_type": "stream",
     "text": [
      "    Rohini Patil    \n",
      "Rohini Patil    \n",
      "    Rohini Patil\n",
      "My Name is Rohini\n"
     ]
    }
   ],
   "source": [
    "## To Remove spaces\n",
    "name=\"    Rohini Patil    \"\n",
    "print(name)\n",
    "print(name.lstrip()) ## Remove space from left\n",
    "print(name.rstrip())  ## Remove space from right\n",
    "print(\"       My Name is Rohini\".lstrip())"
   ]
  },
  {
   "cell_type": "code",
   "execution_count": null,
   "metadata": {},
   "outputs": [],
   "source": []
  }
 ],
 "metadata": {
  "kernelspec": {
   "display_name": "Python 3",
   "language": "python",
   "name": "python3"
  },
  "language_info": {
   "codemirror_mode": {
    "name": "ipython",
    "version": 3
   },
   "file_extension": ".py",
   "mimetype": "text/x-python",
   "name": "python",
   "nbconvert_exporter": "python",
   "pygments_lexer": "ipython3",
   "version": "3.7.6"
  }
 },
 "nbformat": 4,
 "nbformat_minor": 4
}
