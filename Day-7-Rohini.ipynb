{
 "cells": [
  {
   "cell_type": "code",
   "execution_count": null,
   "metadata": {},
   "outputs": [],
   "source": [
    "##Introduction to List Slicing \n",
    "##mainvar[startvalue:stopvaluestepcount]  ## based on index value"
   ]
  },
  {
   "cell_type": "code",
   "execution_count": 1,
   "metadata": {},
   "outputs": [],
   "source": [
    "my_student=['rohini','kiran','Shruti','kavita','atharva','kavita']"
   ]
  },
  {
   "cell_type": "code",
   "execution_count": 3,
   "metadata": {},
   "outputs": [
    {
     "name": "stdout",
     "output_type": "stream",
     "text": [
      "['rohini']\n",
      "['rohini', 'kiran']\n"
     ]
    }
   ],
   "source": [
    "print(my_student[0:1])\n",
    "print(my_student[0:2])"
   ]
  },
  {
   "cell_type": "code",
   "execution_count": 4,
   "metadata": {},
   "outputs": [
    {
     "name": "stdout",
     "output_type": "stream",
     "text": [
      "['atharva', 'kavita']\n"
     ]
    }
   ],
   "source": [
    "print(my_student[4:6])"
   ]
  },
  {
   "cell_type": "code",
   "execution_count": null,
   "metadata": {},
   "outputs": [],
   "source": [
    "##\n",
    "## req: want to get the even number from 1-30 by using concept of list data\n",
    "## type\n",
    "## syntax of range ---- range(startvalue,stopvalue,stepcount)"
   ]
  },
  {
   "cell_type": "code",
   "execution_count": 5,
   "metadata": {},
   "outputs": [],
   "source": [
    "eve_num = list(range(2,30,2))"
   ]
  },
  {
   "cell_type": "code",
   "execution_count": 6,
   "metadata": {},
   "outputs": [
    {
     "name": "stdout",
     "output_type": "stream",
     "text": [
      "[2, 4, 6, 8, 10, 12, 14, 16, 18, 20, 22, 24, 26, 28]\n"
     ]
    }
   ],
   "source": [
    "print(eve_num)"
   ]
  },
  {
   "cell_type": "code",
   "execution_count": 8,
   "metadata": {},
   "outputs": [
    {
     "name": "stdout",
     "output_type": "stream",
     "text": [
      "[3, 5, 7, 9, 11, 13, 15, 17, 19, 21, 23, 25, 27, 29]\n"
     ]
    }
   ],
   "source": [
    "odd_num = list(range(3,30,2))\n",
    "print(odd_num)"
   ]
  },
  {
   "cell_type": "code",
   "execution_count": 9,
   "metadata": {},
   "outputs": [
    {
     "data": {
      "text/plain": [
       "list"
      ]
     },
     "execution_count": 9,
     "metadata": {},
     "output_type": "execute_result"
    }
   ],
   "source": [
    "type(odd_num)\n"
   ]
  },
  {
   "cell_type": "code",
   "execution_count": 10,
   "metadata": {},
   "outputs": [],
   "source": [
    "my_student=['rohini','kiran','Shruti','kavita','atharva','yasmin','xxx','yyy']"
   ]
  },
  {
   "cell_type": "code",
   "execution_count": 12,
   "metadata": {},
   "outputs": [
    {
     "name": "stdout",
     "output_type": "stream",
     "text": [
      "['rohini', 'kiran', 'Shruti', 'kavita', 'atharva', 'yasmin', 'xxx', 'yyy']\n"
     ]
    }
   ],
   "source": [
    "print(my_student)"
   ]
  },
  {
   "cell_type": "code",
   "execution_count": 13,
   "metadata": {},
   "outputs": [
    {
     "name": "stdout",
     "output_type": "stream",
     "text": [
      "['rohini', 'kiran']\n"
     ]
    }
   ],
   "source": [
    "print(my_student[0:2])"
   ]
  },
  {
   "cell_type": "code",
   "execution_count": 17,
   "metadata": {},
   "outputs": [
    {
     "name": "stdout",
     "output_type": "stream",
     "text": [
      "['rohini', 'Shruti', 'atharva', 'xxx']\n",
      "['rohini', 'kavita', 'xxx']\n"
     ]
    }
   ],
   "source": [
    "print(my_student[0:7:2])\n",
    "print(my_student[0:7:3])"
   ]
  },
  {
   "cell_type": "code",
   "execution_count": null,
   "metadata": {},
   "outputs": [],
   "source": [
    "## Introduction to negative indexing \n",
    "## Positive indexing starts from 0,1,2,3..\n",
    "## negative indexing starts from -1,-2,-3,-4..."
   ]
  },
  {
   "cell_type": "code",
   "execution_count": 18,
   "metadata": {},
   "outputs": [
    {
     "name": "stdout",
     "output_type": "stream",
     "text": [
      "['rohini', 'kiran', 'Shruti', 'kavita', 'atharva', 'yasmin', 'xxx', 'yyy']\n"
     ]
    }
   ],
   "source": [
    "print(my_student)\n"
   ]
  },
  {
   "cell_type": "code",
   "execution_count": 19,
   "metadata": {},
   "outputs": [
    {
     "name": "stdout",
     "output_type": "stream",
     "text": [
      "yyy\n"
     ]
    }
   ],
   "source": [
    "print(my_student[-1])"
   ]
  },
  {
   "cell_type": "code",
   "execution_count": 20,
   "metadata": {},
   "outputs": [
    {
     "name": "stdout",
     "output_type": "stream",
     "text": [
      "kavita\n"
     ]
    }
   ],
   "source": [
    "print(my_student[-5])"
   ]
  },
  {
   "cell_type": "code",
   "execution_count": null,
   "metadata": {},
   "outputs": [],
   "source": [
    "###*** How do you print the above list in a reverse order by using concept of indexing"
   ]
  },
  {
   "cell_type": "code",
   "execution_count": 21,
   "metadata": {},
   "outputs": [
    {
     "name": "stdout",
     "output_type": "stream",
     "text": [
      "['rohini', 'kiran', 'Shruti', 'kavita', 'atharva', 'yasmin', 'xxx', 'yyy']\n"
     ]
    }
   ],
   "source": [
    "print(my_student)"
   ]
  },
  {
   "cell_type": "code",
   "execution_count": 22,
   "metadata": {},
   "outputs": [
    {
     "name": "stdout",
     "output_type": "stream",
     "text": [
      "['yyy', 'xxx', 'yasmin', 'atharva', 'kavita', 'Shruti', 'kiran', 'rohini']\n"
     ]
    }
   ],
   "source": [
    "print(my_student[::-1])\n",
    "## when no value is given it considers start to end and \n",
    "##give -1 step count for reverse"
   ]
  },
  {
   "cell_type": "code",
   "execution_count": 30,
   "metadata": {},
   "outputs": [
    {
     "name": "stdout",
     "output_type": "stream",
     "text": [
      "['rohini', 'kiran', 'Shruti', 'kavita', 'atharva', 'yasmin', 'xxx']\n",
      "rohini\n"
     ]
    }
   ],
   "source": [
    "print(my_student[-8:-1:1])\n",
    "print(my_student[-8])"
   ]
  },
  {
   "cell_type": "code",
   "execution_count": null,
   "metadata": {},
   "outputs": [],
   "source": [
    "my_student=['rohini','kiran','Shruti','kavita','atharva','yasmin','xxx','yyy']"
   ]
  }
 ],
 "metadata": {
  "kernelspec": {
   "display_name": "Python 3",
   "language": "python",
   "name": "python3"
  },
  "language_info": {
   "codemirror_mode": {
    "name": "ipython",
    "version": 3
   },
   "file_extension": ".py",
   "mimetype": "text/x-python",
   "name": "python",
   "nbconvert_exporter": "python",
   "pygments_lexer": "ipython3",
   "version": "3.7.6"
  }
 },
 "nbformat": 4,
 "nbformat_minor": 4
}
